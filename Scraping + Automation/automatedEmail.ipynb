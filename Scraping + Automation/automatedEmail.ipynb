{
 "cells": [
  {
   "cell_type": "code",
   "execution_count": 1,
   "metadata": {},
   "outputs": [],
   "source": [
    "from selenium import webdriver\n",
    "import time"
   ]
  },
  {
   "cell_type": "code",
   "execution_count": 2,
   "metadata": {},
   "outputs": [],
   "source": [
    "driver = webdriver.Chrome('/home/aman/Documents/Project/WebScrapping/Driver/chromedriver')\n",
    "driver.get(\"https://mail.google.com/mail/u/0/#inbox\")"
   ]
  },
  {
   "cell_type": "code",
   "execution_count": 3,
   "metadata": {},
   "outputs": [
    {
     "name": "stdout",
     "output_type": "stream",
     "text": [
      "a.saini7999\n"
     ]
    }
   ],
   "source": [
    "x =driver.find_element_by_xpath(\"//*[@id='identifierId']\")\n",
    "emailID = input()\n",
    "x.send_keys(emailID)\n",
    "driver.find_element_by_xpath(\"//*[@id='identifierNext']/span/span\").click()"
   ]
  },
  {
   "cell_type": "code",
   "execution_count": 4,
   "metadata": {},
   "outputs": [
    {
     "name": "stdout",
     "output_type": "stream",
     "text": [
      "65416541\n"
     ]
    }
   ],
   "source": [
    "time.sleep(3)\n",
    "y = driver.find_element_by_xpath('//*[@id=\"password\"]/div[1]/div/div[1]/input')\n",
    "password = input()\n",
    "y.send_keys(password)\n",
    "driver.find_element_by_xpath('//*[@id=\"passwordNext\"]/span/span').click()"
   ]
  }
 ],
 "metadata": {
  "kernelspec": {
   "display_name": "Python 3",
   "language": "python",
   "name": "python3"
  },
  "language_info": {
   "codemirror_mode": {
    "name": "ipython",
    "version": 3
   },
   "file_extension": ".py",
   "mimetype": "text/x-python",
   "name": "python",
   "nbconvert_exporter": "python",
   "pygments_lexer": "ipython3",
   "version": "3.7.3"
  }
 },
 "nbformat": 4,
 "nbformat_minor": 2
}
