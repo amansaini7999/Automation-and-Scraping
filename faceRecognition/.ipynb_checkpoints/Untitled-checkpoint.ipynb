{
 "cells": [
  {
   "cell_type": "code",
   "execution_count": 1,
   "metadata": {},
   "outputs": [],
   "source": [
    "import face_recognition\n",
    "import cv2\n",
    "import dlib"
   ]
  },
  {
   "cell_type": "code",
   "execution_count": 2,
   "metadata": {},
   "outputs": [
    {
     "name": "stdout",
     "output_type": "stream",
     "text": [
      "1. Registration\n",
      "2. Unlock\n",
      "\n",
      "Enter your Choice : 1\n"
     ]
    }
   ],
   "source": [
    "ch = int(input(\"1. Registration\\n2. Unlock\\n\\nEnter your Choice : \"))"
   ]
  },
  {
   "cell_type": "code",
   "execution_count": 5,
   "metadata": {
    "scrolled": true
   },
   "outputs": [
    {
     "name": "stdout",
     "output_type": "stream",
     "text": [
      "Enter name : aman\n",
      "No Faces\n",
      "No Faces\n",
      "No Faces\n",
      "No Faces\n",
      "No Faces\n",
      "No Faces\n",
      "No Faces\n",
      "No Faces\n",
      "No Faces\n",
      "No Faces\n",
      "No Faces\n",
      "No Faces\n",
      "No Faces\n",
      "No Faces\n",
      "No Faces\n",
      "No Faces\n",
      "No Faces\n",
      "No Faces\n",
      "No Faces\n",
      "No Faces\n",
      "No Faces\n",
      "No Faces\n",
      "No Faces\n",
      "No Faces\n",
      "No Faces\n",
      "No Faces\n",
      "No Faces\n",
      "No Faces\n",
      "No Faces\n",
      "No Faces\n",
      "No Faces\n",
      "No Faces\n",
      "No Faces\n",
      "No Faces\n",
      "No Faces\n",
      "No Faces\n",
      "No Faces\n",
      "No Faces\n",
      "No Faces\n",
      "No Faces\n",
      "No Faces\n",
      "No Faces\n",
      "No Faces\n",
      "No Faces\n",
      "No Faces\n",
      "No Faces\n",
      "No Faces\n",
      "No Faces\n",
      "No Faces\n",
      "No Faces\n",
      "No Faces\n",
      "No Faces\n",
      "No Faces\n",
      "No Faces\n",
      "No Faces\n",
      "No Faces\n",
      "No Faces\n",
      "No Faces\n",
      "No Faces\n",
      "No Faces\n",
      "No Faces\n",
      "No Faces\n",
      "No Faces\n",
      "No Faces\n",
      "No Faces\n",
      "No Faces\n",
      "No Faces\n",
      "No Faces\n",
      "No Faces\n",
      "No Faces\n",
      "No Faces\n",
      "No Faces\n",
      "No Faces\n",
      "No Faces\n",
      "No Faces\n",
      "No Faces\n",
      "No Faces\n",
      "No Faces\n",
      "No Faces\n"
     ]
    }
   ],
   "source": [
    "if(ch==1):\n",
    "    name = input(\"Enter name : \")\n",
    "    cap = cv2.VideoCapture(0)\n",
    "    \n",
    "    while(True):\n",
    "        ret, frame = cap.read()\n",
    "        \n",
    "        detector = dlib.get_frontal_face_detector()\n",
    "        faces = detector(frame)\n",
    "        \n",
    "        if(len(faces) > 0):\n",
    "            for face in faces:\n",
    "                x1 = face.left()\n",
    "                y1 = face.top()\n",
    "                x2 = face.right()\n",
    "                y2 = face.bottom()\n",
    "                \n",
    "                cv2.rectangle(frame, (x1, y1), (x2, y2), (255, 0, 0), 10)\n",
    "        \n",
    "        else:\n",
    "            print(\"No Faces\")\n",
    "        \n",
    "        cv2.imshow('frame',frame)\n",
    "        \n",
    "        if cv2.waitKey(1) & 0xFF == ord('q'):\n",
    "            break\n",
    "            \n",
    "    cap.release()\n",
    "    cv2.destroyAllWindows()\n",
    "    \n",
    "else:\n",
    "    cap = cv2.VideoCapture(0)\n",
    "    \n",
    "    while(True):\n",
    "        ret, frame = cap.read()\n",
    "        \n",
    "        cv2.imshow('frame',frame)\n",
    "        \n",
    "        if cv2.waitKey(1) & 0xFF == ord('q'):\n",
    "            break\n",
    "            \n",
    "    cap.release()\n",
    "    cv2.destroyAllWindows()"
   ]
  },
  {
   "cell_type": "code",
   "execution_count": null,
   "metadata": {},
   "outputs": [],
   "source": []
  },
  {
   "cell_type": "code",
   "execution_count": null,
   "metadata": {},
   "outputs": [],
   "source": []
  },
  {
   "cell_type": "code",
   "execution_count": null,
   "metadata": {},
   "outputs": [],
   "source": []
  },
  {
   "cell_type": "code",
   "execution_count": null,
   "metadata": {},
   "outputs": [],
   "source": []
  },
  {
   "cell_type": "code",
   "execution_count": null,
   "metadata": {},
   "outputs": [],
   "source": []
  },
  {
   "cell_type": "code",
   "execution_count": null,
   "metadata": {},
   "outputs": [],
   "source": []
  },
  {
   "cell_type": "code",
   "execution_count": null,
   "metadata": {},
   "outputs": [],
   "source": []
  },
  {
   "cell_type": "code",
   "execution_count": 2,
   "metadata": {},
   "outputs": [],
   "source": [
    "aman = face_recognition.load_image_file(\"/home/aman/Downloads/52989643_1148268248685350_2487798001628610560_o.jpg\")\n",
    "#obama_image = face_recognition.load_image_file(\"obama.jpg\")\n",
    "unknown_image = face_recognition.load_image_file(\"/home/aman/Downloads/52989643_1148268248685350_2487798001628610560_o.jpg\")"
   ]
  },
  {
   "cell_type": "code",
   "execution_count": 3,
   "metadata": {},
   "outputs": [],
   "source": [
    "try:\n",
    "    aman_face_encoding = face_recognition.face_encodings(aman)[0]\n",
    "    #obama_face_encoding = face_recognition.face_encodings(obama_image)[0]\n",
    "    unknown_face_encoding = face_recognition.face_encodings(unknown_image)[0]\n",
    "except IndexError:\n",
    "    print(\"I wasn't able to locate any faces in at least one of the images. Check the image files. Aborting...\")\n",
    "    quit()"
   ]
  },
  {
   "cell_type": "code",
   "execution_count": 4,
   "metadata": {},
   "outputs": [],
   "source": [
    "known_faces = [\n",
    "    aman_face_encoding,\n",
    "    #obama_face_encoding\n",
    "]"
   ]
  },
  {
   "cell_type": "code",
   "execution_count": 5,
   "metadata": {},
   "outputs": [],
   "source": [
    "results = face_recognition.compare_faces(known_faces, unknown_face_encoding)"
   ]
  },
  {
   "cell_type": "code",
   "execution_count": 6,
   "metadata": {},
   "outputs": [
    {
     "name": "stdout",
     "output_type": "stream",
     "text": [
      "[True]\n"
     ]
    }
   ],
   "source": [
    "print(results)"
   ]
  }
 ],
 "metadata": {
  "kernelspec": {
   "display_name": "Python 3",
   "language": "python",
   "name": "python3"
  },
  "language_info": {
   "codemirror_mode": {
    "name": "ipython",
    "version": 3
   },
   "file_extension": ".py",
   "mimetype": "text/x-python",
   "name": "python",
   "nbconvert_exporter": "python",
   "pygments_lexer": "ipython3",
   "version": "3.7.3"
  }
 },
 "nbformat": 4,
 "nbformat_minor": 4
}
